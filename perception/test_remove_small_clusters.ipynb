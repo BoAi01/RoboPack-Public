{
 "cells": [
  {
   "cell_type": "code",
   "execution_count": null,
   "metadata": {
    "collapsed": true
   },
   "outputs": [],
   "source": []
  },
  {
   "cell_type": "code",
   "execution_count": 1,
   "outputs": [
    {
     "name": "stdout",
     "output_type": "stream",
     "text": [
      "Jupyter environment detected. Enabling Open3D WebVisualizer.\n",
      "[Open3D INFO] WebRTC GUI backend enabled.\n",
      "[Open3D INFO] WebRTCWindowSystem: HTTP handshake server disabled.\n",
      "\u001B[1;33m[Open3D WARNING] Write PLY failed: point cloud has 0 points.\u001B[0;m\n"
     ]
    }
   ],
   "source": [
    "import open3d as o3d\n",
    "\n",
    "def save_point_cloud(point_cloud, file_path):\n",
    "    \"\"\"\n",
    "    Saves an Open3D point cloud to the specified file path.\n",
    "\n",
    "    Args:\n",
    "        point_cloud (open3d.geometry.PointCloud): Open3D point cloud object.\n",
    "        file_path (str): File path to save the point cloud.\n",
    "    \"\"\"\n",
    "    o3d.io.write_point_cloud(file_path, point_cloud)\n",
    "\n",
    "# Example usage\n",
    "point_cloud = o3d.geometry.PointCloud()  # Assume you have an Open3D point cloud object\n",
    "file_path = 'cam1_pc1.ply'    # Output file path\n",
    "\n",
    "save_point_cloud(point_cloud, file_path)\n"
   ],
   "metadata": {
    "collapsed": false,
    "ExecuteTime": {
     "end_time": "2023-07-13T19:42:34.215742840Z",
     "start_time": "2023-07-13T19:42:33.215616895Z"
    }
   }
  },
  {
   "cell_type": "code",
   "execution_count": 16,
   "outputs": [],
   "source": [
    "pc1 = o3d.io.read_point_cloud('cam1_pc1.ply')\n",
    "pc2 = o3d.io.read_point_cloud('cam1_pc2.ply')\n",
    "cam0_pc1 = o3d.io.read_point_cloud('cam0_pc1.ply')"
   ],
   "metadata": {
    "collapsed": false,
    "ExecuteTime": {
     "end_time": "2023-07-13T19:48:39.814923583Z",
     "start_time": "2023-07-13T19:48:39.760848914Z"
    }
   }
  },
  {
   "cell_type": "code",
   "execution_count": 6,
   "outputs": [],
   "source": [
    "o3d.visualization.draw_geometries([pc1, pc2])"
   ],
   "metadata": {
    "collapsed": false,
    "ExecuteTime": {
     "end_time": "2023-07-13T19:43:35.690338759Z",
     "start_time": "2023-07-13T19:43:35.683588455Z"
    }
   }
  },
  {
   "cell_type": "code",
   "execution_count": 57,
   "outputs": [],
   "source": [
    "import open3d as o3d\n",
    "\n",
    "def remove_small_pieces(point_cloud, eps, min_samples, density_check=False):\n",
    "    \"\"\"\n",
    "    Removes small scattered pieces from an Open3D point cloud using DBSCAN clustering.\n",
    "\n",
    "    Args:\n",
    "        point_cloud (open3d.geometry.PointCloud): Open3D point cloud object.\n",
    "        eps (float): The maximum distance between two samples for them to be considered as in the same neighborhood.\n",
    "        min_samples (int): The number of samples in a neighborhood for a point to be considered as a core point.\n",
    "\n",
    "    Returns:\n",
    "        open3d.geometry.PointCloud: Filtered point cloud with small pieces removed.\n",
    "    \"\"\"\n",
    "    if density_check:\n",
    "        if get_bbox_points_density(point_cloud) > 3e8:  # 3e8 is roughly the density of half a ball's surface\n",
    "            return point_cloud\n",
    "\n",
    "    labels = point_cloud.cluster_dbscan(eps=eps, min_points=min_samples)\n",
    "\n",
    "    core_mask = np.asarray(labels) != -1  # Identify core points (not noise)\n",
    "    filtered_cloud = point_cloud.select_by_index(np.where(core_mask)[0])\n",
    "\n",
    "    return filtered_cloud\n",
    "\n",
    "# Example usage\n",
    "point_cloud = cam0_pc1  # Assume you have an Open3D point cloud object\n",
    "eps = 0.02  # Maximum distance between points in the same cluster\n",
    "min_samples = 1000  # Minimum number of points in a cluster\n",
    "\n",
    "o3d.visualization.draw_geometries([point_cloud])\n",
    "filtered_point_cloud = remove_small_pieces(point_cloud, eps, min_samples)\n",
    "o3d.visualization.draw_geometries([filtered_point_cloud])"
   ],
   "metadata": {
    "collapsed": false,
    "ExecuteTime": {
     "end_time": "2023-07-13T20:15:04.903745338Z",
     "start_time": "2023-07-13T20:15:04.857374973Z"
    }
   }
  },
  {
   "cell_type": "code",
   "execution_count": 52,
   "outputs": [],
   "source": [
    "def get_bbox_points_density(pc):\n",
    "    max_bound = pc.get_axis_aligned_bounding_box().get_max_bound()\n",
    "    min_bound = pc.get_axis_aligned_bounding_box().get_min_bound()\n",
    "    n_points = np.asarray(pc.points).shape[0]\n",
    "\n",
    "    return n_points / np.prod(max_bound - min_bound)"
   ],
   "metadata": {
    "collapsed": false,
    "ExecuteTime": {
     "end_time": "2023-07-13T20:08:15.427710573Z",
     "start_time": "2023-07-13T20:08:15.380052694Z"
    }
   }
  },
  {
   "cell_type": "markdown",
   "source": [
    "labels"
   ],
   "metadata": {
    "collapsed": false
   }
  },
  {
   "cell_type": "code",
   "execution_count": 58,
   "outputs": [
    {
     "data": {
      "text/plain": "23184060.98189734"
     },
     "execution_count": 58,
     "metadata": {},
     "output_type": "execute_result"
    }
   ],
   "source": [
    "get_bbox_points_density(point_cloud)"
   ],
   "metadata": {
    "collapsed": false,
    "ExecuteTime": {
     "end_time": "2023-07-13T20:15:08.218615807Z",
     "start_time": "2023-07-13T20:15:08.212989710Z"
    }
   }
  },
  {
   "cell_type": "markdown",
   "source": [],
   "metadata": {
    "collapsed": false
   }
  },
  {
   "cell_type": "code",
   "execution_count": 59,
   "outputs": [
    {
     "data": {
      "text/plain": "29328193.177949943"
     },
     "execution_count": 59,
     "metadata": {},
     "output_type": "execute_result"
    }
   ],
   "source": [
    "get_bbox_points_density(filtered_point_cloud)"
   ],
   "metadata": {
    "collapsed": false,
    "ExecuteTime": {
     "end_time": "2023-07-13T20:15:19.899830226Z",
     "start_time": "2023-07-13T20:15:19.894321732Z"
    }
   }
  },
  {
   "cell_type": "code",
   "execution_count": 46,
   "outputs": [
    {
     "data": {
      "text/plain": "array([0.09037522, 0.16260598, 0.17401076])"
     },
     "execution_count": 46,
     "metadata": {},
     "output_type": "execute_result"
    }
   ],
   "source": [
    "bound_diff = max_bound - min_bound\n",
    "bound_diff"
   ],
   "metadata": {
    "collapsed": false,
    "ExecuteTime": {
     "end_time": "2023-07-13T20:04:35.897045993Z",
     "start_time": "2023-07-13T20:04:35.895124907Z"
    }
   }
  },
  {
   "cell_type": "code",
   "execution_count": 48,
   "outputs": [
    {
     "data": {
      "text/plain": "1.525220032092304e-07"
     },
     "execution_count": 48,
     "metadata": {},
     "output_type": "execute_result"
    }
   ],
   "source": [
    "np.prod(bound_diff) / np.asarray(filtered_point_cloud.points).shape[0]"
   ],
   "metadata": {
    "collapsed": false,
    "ExecuteTime": {
     "end_time": "2023-07-13T20:04:46.950476948Z",
     "start_time": "2023-07-13T20:04:46.945269423Z"
    }
   }
  },
  {
   "cell_type": "code",
   "execution_count": 50,
   "outputs": [],
   "source": [
    "o3d.visualization.draw_geometries([point_cloud, point_cloud.get_axis_aligned_bounding_box()])"
   ],
   "metadata": {
    "collapsed": false,
    "ExecuteTime": {
     "end_time": "2023-07-13T20:05:50.298114633Z",
     "start_time": "2023-07-13T20:05:50.296980348Z"
    }
   }
  },
  {
   "cell_type": "code",
   "execution_count": 49,
   "outputs": [],
   "source": [
    "o3d.visualization.draw_geometries([filtered_point_cloud, filtered_point_cloud.get_axis_aligned_bounding_box()])\n",
    "max_bound = filtered_point_cloud.get_axis_aligned_bounding_box().get_max_bound()\n",
    "min_bound = filtered_point_cloud.get_axis_aligned_bounding_box().get_min_bound()\n"
   ],
   "metadata": {
    "collapsed": false,
    "ExecuteTime": {
     "end_time": "2023-07-13T20:05:36.665889414Z",
     "start_time": "2023-07-13T20:05:36.621058846Z"
    }
   }
  },
  {
   "cell_type": "code",
   "execution_count": null,
   "outputs": [],
   "source": [],
   "metadata": {
    "collapsed": false
   }
  }
 ],
 "metadata": {
  "kernelspec": {
   "display_name": "Python 3",
   "language": "python",
   "name": "python3"
  },
  "language_info": {
   "codemirror_mode": {
    "name": "ipython",
    "version": 2
   },
   "file_extension": ".py",
   "mimetype": "text/x-python",
   "name": "python",
   "nbconvert_exporter": "python",
   "pygments_lexer": "ipython2",
   "version": "2.7.6"
  }
 },
 "nbformat": 4,
 "nbformat_minor": 0
}
